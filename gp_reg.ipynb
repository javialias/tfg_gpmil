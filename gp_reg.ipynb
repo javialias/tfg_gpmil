{
 "cells": [
  {
   "cell_type": "markdown",
   "metadata": {},
   "source": [
    "Código para la regresión a partir de un proceso gaussiano. Tiene integrados los \n",
    "diferentes kernels que se pueden utilizar para llevarla a cabo."
   ]
  },
  {
   "cell_type": "code",
   "execution_count": null,
   "metadata": {},
   "outputs": [],
   "source": [
    "import numpy as np\n",
    "import scipy.io\n",
    "from numpy.random import randn, multivariate_normal\n",
    "from scipy.linalg import cho_solve, cho_factor\n",
    "from numpy.linalg import cholesky, solve\n",
    "import matplotlib.pyplot as plt\n",
    "\n",
    "%matplotlib inline\n",
    "%config InlineBackend.figure_format='retina'"
   ]
  },
  {
   "cell_type": "code",
   "execution_count": 157,
   "metadata": {
    "tags": []
   },
   "outputs": [],
   "source": [
    "dark = np.array([51.0, 51.0, 51.0]) / 255.0\n",
    "red = np.array([141.0, 45.0, 57.0]) / 255.0\n",
    "gold = np.array([174.0, 159.0, 109.0]) / 255.0\n",
    "gray = np.array([175.0, 179.0, 183.0]) / 255.0\n",
    "lred = np.array([1, 1, 1]) - 0.5 * (np.array([1, 1, 1]) - red)\n",
    "lgold = np.array([1, 1, 1]) - 0.5 * (np.array([1, 1, 1]) - gold)"
   ]
  },
  {
   "cell_type": "code",
   "execution_count": 158,
   "metadata": {},
   "outputs": [],
   "source": [
    "def phi(a):\n",
    "    ell = 1.0\n",
    "    return 3 * np.exp(-((a - np.linspace(-8, 8, 16).T) ** 2) / (ell ** 2) / 2.0)\n",
    "\n",
    "\n",
    "F = len(phi(0))  \n",
    "mu = np.zeros((F, 1))\n",
    "Sigma = np.eye(F)  "
   ]
  },
  {
   "cell_type": "code",
   "execution_count": 159,
   "metadata": {},
   "outputs": [],
   "source": [
    "n = 400  \n",
    "x = np.linspace(-8, 8, n)[:, np.newaxis] \n",
    "m = phi(x) @ mu\n",
    "kxx = phi(x) @ Sigma @ phi(x).T  \n",
    "s = multivariate_normal(m.flatten(), kxx, size=5).T\n",
    "stdpi = np.sqrt(np.diag(kxx))[:, np.newaxis]  \n",
    "\n",
    "X = np.array([-5,-3.4,-2,-1.4,3,4,5.6]).reshape(7,1)\n",
    "Y = np.array([-2,3.4,0.3,1.4,-3,1,5]).reshape(7,1)\n",
    "\n",
    "sigma=0\n",
    "N = len(X)  \n",
    "\n",
    "M = phi(X) @ mu\n",
    "kXX = phi(X) @ Sigma @ phi(X).T  \n",
    "G = kXX + sigma ** 2 * np.eye(N)\n",
    "\n",
    "G = cho_factor(G)\n",
    "kxX = phi(x) @ Sigma @ phi(X).T  \n",
    "A = cho_solve(G, kxX.T).T  \n",
    "\n",
    "mpost = m + A @ (Y - M)  \n",
    "vpost = kxx - A @ kxX.T  \n",
    "spost = multivariate_normal(mpost.flatten(), vpost, size=5).T \n",
    "stdpo = np.sqrt(np.diag(vpost))[:, np.newaxis]  "
   ]
  },
  {
   "cell_type": "code",
   "execution_count": 149,
   "metadata": {},
   "outputs": [],
   "source": [
    "def m(x):\n",
    "    return phi(x) @ mu\n",
    "\n",
    "\n",
    "def k(a, b):\n",
    "    return phi(a) @ Sigma @ phi(b).T"
   ]
  },
  {
   "cell_type": "code",
   "execution_count": 162,
   "metadata": {},
   "outputs": [],
   "source": [
    "def GP_reg(m, k):\n",
    "    out = {}\n",
    "    n = 400  \n",
    "    x = np.linspace(-8, 8, n)[:, np.newaxis]\n",
    "    out[\"mx\"] = m(x)\n",
    "    out[\"kxx\"] = k(x, x)  \n",
    "    out[\"s\"] = multivariate_normal(m(x).flatten(), k(x, x), size=5).T\n",
    "    out[\"stdpi\"] = np.sqrt(np.diag(k(x, x)))[:, np.newaxis]\n",
    "\n",
    "    \n",
    "    X = np.array([-5,-3.4,-2,-1.4,3,4,5.6]).reshape(7,1)\n",
    "    Y = np.array([-2,3.4,0.3,1.4,-3,1,5]).reshape(7,1)\n",
    "\n",
    "    sigma=0\n",
    "    N = len(X)  \n",
    "\n",
    "    mX = m(X)\n",
    "    kXX = k(X, X)  \n",
    "    G = kXX + sigma ** 2 * np.eye(N)\n",
    "\n",
    "    G = cho_factor(G)\n",
    "    kxX = k(x, X)  \n",
    "    A = cho_solve(G, kxX.T).T \n",
    "\n",
    "    out[\"mpost\"] = m(x) + A @ (Y - mX)  \n",
    "    out[\"vpost\"] = k(x, x) - A @ kxX.T  \n",
    "    out[\"spost\"] = multivariate_normal(\n",
    "        out[\"mpost\"].flatten(), out[\"vpost\"], size=5\n",
    "    ).T \n",
    "    out[\"stdpo\"] = np.sqrt(np.diag(out[\"vpost\"]))[:, np.newaxis]\n",
    "\n",
    "    return out"
   ]
  },
  {
   "cell_type": "code",
   "execution_count": null,
   "metadata": {},
   "outputs": [],
   "source": [
    "import matplotlib.pyplot as plt\n",
    "from matplotlib import rc\n",
    "\n",
    "plt.rcParams[\"figure.figsize\"] = (25, 10)\n",
    "\n",
    "rc('text', usetex=False)\n",
    "rc('font', size=14)\n",
    "rc('legend', fontsize=13)\n",
    "rc('text.latex', preamble=r'\\usepackage{cmbright}')\n",
    "rc('text.latex', preamble=r'\\usepackage[sc]{mathpazo}')\n",
    "\n",
    "\n",
    "fig, ax = plt.subplots(1, 2)\n",
    "\n",
    "rc('font', size=14)\n",
    "rc('legend', fontsize=13)\n",
    "\n",
    "def GaussPDFscaled(y, m, s):  # shading\n",
    "    return np.exp(-0.5 * (y - m.T) ** 2 / (s ** 2).T)\n",
    "\n",
    "\n",
    "GPout = GP_reg(m, k)\n",
    "\n",
    "yy = np.linspace(-15, 20, 400).reshape([400, 1])\n",
    "P = GaussPDFscaled(yy, GPout[\"mx\"], stdpi)\n",
    "\n",
    "ax[0].imshow(\n",
    "    P, extent=[-8, 8, -15, 20], aspect=\"auto\", origin=\"lower\", cmap=\"Blues\", alpha=0.6\n",
    ")\n",
    "ax[0].plot(x, GPout[\"s\"], \":\", color='darkmagenta')  # prior\n",
    "ax[0].plot(x, GPout[\"mx\"], \"-\", color='skyblue')\n",
    "ax[0].plot(x, GPout[\"mx\"] + 2 * GPout[\"stdpi\"], \"-\", color='skyblue')\n",
    "ax[0].plot(x, GPout[\"mx\"] - 2 * GPout[\"stdpi\"], \"-\", color='skyblue')\n",
    "ax[0].set(xlim=[-8, 8], ylim=[-15, 20], title=\"\")\n",
    "\n",
    "Ppost = GaussPDFscaled(\n",
    "    yy, GPout[\"mpost\"], GPout[\"stdpo\"]\n",
    ")  # shading by local marginal pdf\n",
    "ax[1].imshow(\n",
    "    Ppost,\n",
    "    extent=[-8, 8, -15, 20],\n",
    "    aspect=\"auto\",\n",
    "    origin=\"lower\",\n",
    "    cmap=\"Blues\",\n",
    "    alpha=0.6,\n",
    ")\n",
    "ax[1].errorbar(X, Y, yerr=0, fmt=\"ok\")  # data\n",
    "ax[1].plot(x, GPout[\"mpost\"], \"-\", color='skyblue')  # posterior mean\n",
    "ax[1].plot(\n",
    "    x, GPout[\"mpost\"] + 2 * GPout[\"stdpo\"], \"-\", color='skyblue'\n",
    ")  # upper error bars on f\n",
    "ax[1].plot(\n",
    "    x, GPout[\"mpost\"] - 2 * GPout[\"stdpo\"], \"-\", color='skyblue'\n",
    ")  # lower error bars on f\n",
    "\n",
    "ax[1].plot(\n",
    "    x, GPout[\"mpost\"] + 2 * GPout[\"stdpo\"] + 2 * sigma, \"-\", color='skyblue'\n",
    ")  # predictive error bars (on y)\n",
    "ax[1].plot(x, GPout[\"mpost\"] - 2 * GPout[\"stdpo\"] - 2 * sigma, \"-\", color='skyblue')\n",
    "\n",
    "ax[1].plot(x, GPout[\"spost\"], \":\", color='darkmagenta')  # samples\n",
    "ax[1].set(xlim=[-8, 8], ylim=[-12, 12], title=\"\")\n",
    "ax[1].tick_params(axis='both', which='major', labelsize=17)\n",
    "ax[1].tick_params(axis='both', which='minor', labelsize=15)\n",
    "\n",
    "plt.show()\n",
    "fig.savefig(\"gp_wiener\", dpi=200)"
   ]
  },
  {
   "cell_type": "code",
   "execution_count": 160,
   "metadata": {},
   "outputs": [],
   "source": [
    "def m(x):\n",
    "    return 0.0 * x  # mean function\n",
    "\n",
    "\n",
    "def kernel(f):\n",
    "    return lambda a, b: np.array(\n",
    "        [[np.float64(f(a[i], b[j])) for j in range(b.size)]\n",
    "         for i in range(a.size)]\n",
    "    )"
   ]
  },
  {
   "cell_type": "code",
   "execution_count": 73,
   "metadata": {},
   "outputs": [],
   "source": [
    "def SE(a, b, ell):\n",
    "    return 3 ** 2 * np.exp(-((a - b) ** 2) / 2.0 / ell ** 2)\n",
    "\n",
    "\n",
    "k = kernel(lambda a, b: SE(a, b, 0.5))\n",
    "#return 3 ** 2 * np.exp(-((a - b) ** 2) / 2.0 / ell ** 2)"
   ]
  },
  {
   "cell_type": "code",
   "execution_count": 161,
   "metadata": {},
   "outputs": [],
   "source": [
    "def Wiener(a, b, c):\n",
    "    return np.minimum(a - c, b - c)\n",
    "\n",
    "\n",
    "k = kernel(lambda a, b: Wiener(a, b, -9))"
   ]
  },
  {
   "cell_type": "code",
   "execution_count": 14,
   "metadata": {},
   "outputs": [],
   "source": [
    "def OU(a, b, ell):\n",
    "    return 3 ** 2 * np.exp(-np.abs(a - b) / ell ** 2)\n",
    "\n",
    "\n",
    "k = kernel(lambda a, b: OU(a, b, 3))"
   ]
  },
  {
   "cell_type": "code",
   "execution_count": 42,
   "metadata": {},
   "outputs": [],
   "source": [
    "def spline3(a, b, c, o):\n",
    "    return c ** 2 * (\n",
    "        np.minimum(a - o, b - o) ** 3 / 3.0\n",
    "        + 0.5 * np.abs(a - b) * np.minimum(a - o, b - o) ** 2\n",
    "    )\n",
    "\n",
    "\n",
    "k = kernel(lambda a, b: spline3(a, b, 1, -9.0))"
   ]
  },
  {
   "cell_type": "code",
   "execution_count": 48,
   "metadata": {},
   "outputs": [],
   "source": [
    "def linear(a, b):\n",
    "    return a * b\n",
    "\n",
    "\n",
    "k = kernel(linear)"
   ]
  },
  {
   "cell_type": "code",
   "execution_count": 44,
   "metadata": {},
   "outputs": [],
   "source": [
    "def phi(a):\n",
    "    return ((a + 8.1) / 4) ** 2\n",
    "\n",
    "\n",
    "k = kernel(lambda a, b: SE(phi(a), phi(b), 1))"
   ]
  },
  {
   "cell_type": "code",
   "execution_count": 49,
   "metadata": {},
   "outputs": [],
   "source": [
    "k = kernel(lambda a, b: linear(a, b) + SE(a, b, 1))"
   ]
  },
  {
   "cell_type": "code",
   "execution_count": 52,
   "metadata": {},
   "outputs": [],
   "source": [
    "k = kernel(lambda a, b: linear(a, b) * SE(a, b, 1))"
   ]
  }
 ],
 "metadata": {
  "kernelspec": {
   "display_name": "Python 3 (ipykernel)",
   "language": "python",
   "name": "python3"
  },
  "language_info": {
   "codemirror_mode": {
    "name": "ipython",
    "version": 3
   },
   "file_extension": ".py",
   "mimetype": "text/x-python",
   "name": "python",
   "nbconvert_exporter": "python",
   "pygments_lexer": "ipython3",
   "version": "3.9.7"
  }
 },
 "nbformat": 4,
 "nbformat_minor": 4
}

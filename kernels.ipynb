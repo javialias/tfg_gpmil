{
 "cells": [
  {
   "cell_type": "code",
   "execution_count": 45,
   "id": "cb41321a",
   "metadata": {},
   "outputs": [],
   "source": [
    " %matplotlib inline\n",
    "import matplotlib.pyplot as plt\n",
    "plt.style.use('seaborn-white')\n",
    "import numpy as np"
   ]
  },
  {
   "cell_type": "code",
   "execution_count": 46,
   "id": "33e19e34",
   "metadata": {},
   "outputs": [],
   "source": [
    "def f(x, y):\n",
    "    return np.exp((-np.absolute(x-y)**2)/2)"
   ]
  },
  {
   "cell_type": "code",
   "execution_count": 47,
   "id": "0d3e41eb",
   "metadata": {},
   "outputs": [],
   "source": [
    "x = np.linspace(0, 5, 500)\n",
    "y = np.linspace(0, 5, 500)\n",
    "\n",
    "X, Y = np.meshgrid(x, y)\n",
    "Z = f(X, Y)"
   ]
  },
  {
   "cell_type": "code",
   "execution_count": null,
   "id": "6bfe0239",
   "metadata": {},
   "outputs": [],
   "source": [
    "fig = plt.figure()\n",
    "plt.contourf(X, Y, Z, 100, cmap='Blues')\n",
    "plt.colorbar();\n",
    "fig.savefig(\"rbf\", dpi=200)"
   ]
  },
  {
   "cell_type": "code",
   "execution_count": 49,
   "id": "1a3c0542",
   "metadata": {},
   "outputs": [],
   "source": [
    "def f(x, y):\n",
    "    return np.minimum(x-2.5,y-2.5)"
   ]
  },
  {
   "cell_type": "code",
   "execution_count": 50,
   "id": "40ee89c5",
   "metadata": {},
   "outputs": [],
   "source": [
    "x = np.linspace(0, 5, 500)\n",
    "y = np.linspace(0, 5, 500)\n",
    "\n",
    "X, Y = np.meshgrid(x, y)\n",
    "Z = f(X, Y)"
   ]
  },
  {
   "cell_type": "code",
   "execution_count": null,
   "id": "64d03ad7",
   "metadata": {},
   "outputs": [],
   "source": [
    "fig = plt.figure()\n",
    "plt.contourf(X, Y, Z, 100, cmap='Blues')\n",
    "plt.colorbar();\n",
    "fig.savefig(\"wienerkernel\", dpi=200)"
   ]
  }
 ],
 "metadata": {
  "kernelspec": {
   "display_name": "Python 3 (ipykernel)",
   "language": "python",
   "name": "python3"
  },
  "language_info": {
   "codemirror_mode": {
    "name": "ipython",
    "version": 3
   },
   "file_extension": ".py",
   "mimetype": "text/x-python",
   "name": "python",
   "nbconvert_exporter": "python",
   "pygments_lexer": "ipython3",
   "version": "3.9.7"
  }
 },
 "nbformat": 4,
 "nbformat_minor": 5
}

{
 "cells": [
  {
   "cell_type": "code",
   "execution_count": 15,
   "metadata": {
    "execution": {
     "iopub.execute_input": "2021-05-11T08:37:08.202206Z",
     "iopub.status.busy": "2021-05-11T08:37:08.201947Z",
     "iopub.status.idle": "2021-05-11T08:37:08.282148Z",
     "shell.execute_reply": "2021-05-11T08:37:08.281503Z",
     "shell.execute_reply.started": "2021-05-11T08:37:08.202145Z"
    },
    "slideshow": {
     "slide_type": "slide"
    }
   },
   "outputs": [],
   "source": [
    "import numpy as np\n",
    "import scipy.io\n",
    "from numpy.random import multivariate_normal\n",
    "from scipy.linalg import cho_factor, cho_solve"
   ]
  },
  {
   "cell_type": "code",
   "execution_count": 16,
   "metadata": {
    "execution": {
     "iopub.execute_input": "2021-05-11T08:37:37.276577Z",
     "iopub.status.busy": "2021-05-11T08:37:37.276357Z",
     "iopub.status.idle": "2021-05-11T08:37:37.282163Z",
     "shell.execute_reply": "2021-05-11T08:37:37.280626Z",
     "shell.execute_reply.started": "2021-05-11T08:37:37.276553Z"
    },
    "jupyter": {
     "source_hidden": true
    }
   },
   "outputs": [],
   "source": [
    "# Define vectores para los colores de la representación gráfica.\n",
    "dark = np.array([51.0, 51.0, 51.0]) / 255.0\n",
    "red = np.array([141.0, 45.0, 57.0]) / 255.0\n",
    "gold = np.array([174.0, 159.0, 109.0]) / 255.0\n",
    "gray = np.array([175.0, 179.0, 183.0]) / 255.0\n",
    "lred = np.array([1, 1, 1]) - 0.5 * (np.array([1, 1, 1]) - red)\n",
    "lgold = np.array([1, 1, 1]) - 0.5 * (np.array([1, 1, 1]) - gold)"
   ]
  },
  {
   "cell_type": "markdown",
   "metadata": {
    "execution": {
     "iopub.execute_input": "2021-05-11T08:37:28.968134Z",
     "iopub.status.busy": "2021-05-11T08:37:28.967927Z",
     "iopub.status.idle": "2021-05-11T08:37:28.971453Z",
     "shell.execute_reply": "2021-05-11T08:37:28.970623Z",
     "shell.execute_reply.started": "2021-05-11T08:37:28.968111Z"
    }
   },
   "source": [
    "Definimos las funciones asociadas a los\n",
    "rasgos que metemos en la regresión. La más básica es la lineal."
   ]
  },
  {
   "cell_type": "code",
   "execution_count": null,
   "metadata": {},
   "outputs": [],
   "source": [
    "def phi(a):  # phi(a) = [1,a]\n",
    "    # La función range crea una secuencia hasta el número inferior al que le pasemos. \n",
    "    return np.power(a, range(2))"
   ]
  },
  {
   "cell_type": "markdown",
   "metadata": {},
   "source": [
    "Incluimos otras nuevas funciones un poco más exóticas."
   ]
  },
  {
   "cell_type": "code",
   "execution_count": 33,
   "metadata": {
    "jupyter": {
     "source_hidden": true
    }
   },
   "outputs": [],
   "source": [
    "def phi(a):\n",
    "    # Función lineal a trozos. La función linspace crea un array de tamaño el último número\n",
    "    # y elementos del primero al segundo de forma equiespaciada.\n",
    "    return 1 * (np.abs(a - np.linspace(-8, 8, 8).T)) - np.linspace(-8, 8, 8)"
   ]
  },
  {
   "cell_type": "code",
   "execution_count": 70,
   "metadata": {
    "jupyter": {
     "source_hidden": true
    }
   },
   "outputs": [],
   "source": [
    "def phi(a):\n",
    "    # Función salto definida a trozos. En cada trozo te dice si a es mayor que el valor \n",
    "    # en ese intervalo o no. Se vale de que True=1, False=0.\n",
    "    return 2 * (a > np.linspace(-8, 8, 8).T)  # steps that switch on\n"
   ]
  },
  {
   "cell_type": "code",
   "execution_count": 15,
   "metadata": {
    "jupyter": {
     "source_hidden": true
    }
   },
   "outputs": [],
   "source": [
    "def phi(a):  # steps that change sign\n",
    "    return 2 * ((a > np.linspace(-8, 8, 8).T) - 0.5)"
   ]
  },
  {
   "cell_type": "code",
   "execution_count": 8,
   "metadata": {
    "execution": {
     "iopub.execute_input": "2021-05-11T08:33:41.567385Z",
     "iopub.status.busy": "2021-05-11T08:33:41.567061Z",
     "iopub.status.idle": "2021-05-11T08:33:41.571101Z",
     "shell.execute_reply": "2021-05-11T08:33:41.570237Z",
     "shell.execute_reply.started": "2021-05-11T08:33:41.567357Z"
    },
    "jupyter": {
     "source_hidden": true
    }
   },
   "outputs": [],
   "source": [
    "def phi(a):\n",
    "    # lineal\n",
    "    return 1 * (np.abs(a - np.linspace(-8, 8, 8).T) - np.linspace(-8, 8, 8))"
   ]
  },
  {
   "cell_type": "code",
   "execution_count": 19,
   "metadata": {
    "execution": {
     "iopub.execute_input": "2021-05-11T08:52:41.514997Z",
     "iopub.status.busy": "2021-05-11T08:52:41.514753Z",
     "iopub.status.idle": "2021-05-11T08:52:41.518937Z",
     "shell.execute_reply": "2021-05-11T08:52:41.518031Z",
     "shell.execute_reply.started": "2021-05-11T08:52:41.514970Z"
    }
   },
   "outputs": [],
   "source": [
    "def phi(a):\n",
    "    # ReLU: \n",
    "    F = 200\n",
    "    return 1 * (a - np.linspace(-8.1, 8, F).T) * (a > np.linspace(-8.1, 8, F).T)"
   ]
  },
  {
   "cell_type": "code",
   "execution_count": 16,
   "metadata": {
    "execution": {
     "iopub.execute_input": "2021-05-11T08:36:53.926212Z",
     "iopub.status.busy": "2021-05-11T08:36:53.925901Z",
     "iopub.status.idle": "2021-05-11T08:36:53.930166Z",
     "shell.execute_reply": "2021-05-11T08:36:53.929463Z",
     "shell.execute_reply.started": "2021-05-11T08:36:53.926185Z"
    },
    "jupyter": {
     "source_hidden": true
    }
   },
   "outputs": [],
   "source": [
    "def phi(a):  # Fourier \n",
    "    return 3 * np.hstack((np.sin(a * np.arange(4)), np.cos(a * np.arange(4))))"
   ]
  },
  {
   "cell_type": "code",
   "execution_count": 25,
   "metadata": {
    "jupyter": {
     "source_hidden": true
    }
   },
   "outputs": [],
   "source": [
    "def phi(a):\n",
    "    return 5 * np.exp(\n",
    "        -((a - np.linspace(-8, 8, 12).T) ** 2) / 2.0 / 0.5 ** 2\n",
    "    )  # RBF "
   ]
  },
  {
   "cell_type": "code",
   "execution_count": 77,
   "metadata": {
    "jupyter": {
     "source_hidden": true
    }
   },
   "outputs": [],
   "source": [
    "def phi(a):  # \"Eiffel\"\n",
    "    return 5 * np.exp(-np.abs(a - np.linspace(-8, 8, 12).T) / 1 ** 2)"
   ]
  },
  {
   "cell_type": "markdown",
   "metadata": {},
   "source": [
    "Hacemos la regresión lineal paramétrica"
   ]
  },
  {
   "cell_type": "code",
   "execution_count": 18,
   "metadata": {
    "execution": {
     "iopub.execute_input": "2021-05-11T08:53:08.399705Z",
     "iopub.status.busy": "2021-05-11T08:53:08.399492Z",
     "iopub.status.idle": "2021-05-11T08:53:08.421980Z",
     "shell.execute_reply": "2021-05-11T08:53:08.421024Z",
     "shell.execute_reply.started": "2021-05-11T08:53:08.399683Z"
    },
    "scrolled": true
   },
   "outputs": [],
   "source": [
    "#prior\n",
    "F = len(phi(0))  # Numero de rasgos. Evaluado en 0 por poner algo que no sea dependiente.\n",
    "# parametros de la a priori\n",
    "mu = np.zeros((F, 1)) # F denota el número de filas, 1 de columnas\n",
    "Sigma = np.eye(F)  # p(w)=N(mu,Sigma)\n",
    "# a priori de f_x\n",
    "n = 100  # puntos para el plot\n",
    "x = np.linspace(-8, 8, n)[:, np.newaxis] \n",
    "m = phi(x) @ mu # Media para p(f)\n",
    "kxx = phi(x) @ Sigma @ phi(x).T  # p(f_x)=N(m,kxx) \n",
    "s = multivariate_normal(m.flatten(), kxx + 1e-6 * np.eye(n), size=5).T\n",
    "stdpi = np.sqrt(np.diag(kxx))[:, np.newaxis]  # desviacion estandar marginal\n",
    "\n",
    "#data = scipy.io.loadmat(\"nlindata.mat\")\n",
    "#X = data[\"X\"]  # inputs\n",
    "#Y = data[\"Y\"]  # outputs\n",
    "X = np.array([-5,-3.4,-2,-1.4,3,4,5.6]).reshape(7,1)\n",
    "Y = np.array([-2,3.4,0.3,1.4,-3,1,5]).reshape(7,1)\n",
    "\n",
    "\n",
    "sigma=1.0 #ruido observaciones\n",
    "N = len(X)  # numero observaciones\n",
    "# evidencia: p(Y) = N(Y;M,kXX + sigma**2 * np.eye(N))\n",
    "M = phi(X) @ mu\n",
    "kXX = phi(X) @ Sigma @ phi(X).T  # p(f_X) = N(M,k_XX)\n",
    "G = kXX + sigma ** 2 * np.eye(N)\n",
    "\n",
    "# construimos la posteriori\n",
    "# cholesky para evitar O(N^3)\n",
    "G = cho_factor(G)\n",
    "kxX = phi(x) @ Sigma @ phi(X).T  # Cov(f_x,f_X) = k_xX\n",
    "A = cho_solve(G, kxX.T).T  \n",
    "\n",
    "# posterior p(f_x|Y) = N(f_x,mpost,vpost)\n",
    "mpost = m + A @ (Y - M)  # media\n",
    "vpost = kxx - A @ kxX.T  # covarianza\n",
    "spost = multivariate_normal(mpost.flatten(), vpost  + 1e-6 * np.eye(n), size=5).T  # muestras\n",
    "stdpo = np.sqrt(np.diag(vpost))[:, np.newaxis]  # desviacion estandar marginal"
   ]
  },
  {
   "cell_type": "markdown",
   "metadata": {},
   "source": [
    "Hacemos las gráficas"
   ]
  },
  {
   "cell_type": "code",
   "execution_count": null,
   "metadata": {},
   "outputs": [],
   "source": [
    "import matplotlib.pyplot as plt\n",
    "from matplotlib import rc\n",
    "\n",
    "plt.rcParams[\"figure.figsize\"] = (25, 10)\n",
    "\n",
    "rc('text', usetex=False)\n",
    "rc('font', size=14)\n",
    "rc('legend', fontsize=13)\n",
    "rc('text.latex', preamble=r'\\usepackage{cmbright}')\n",
    "rc('text.latex', preamble=r'\\usepackage[sc]{mathpazo}')\n",
    "\n",
    "\n",
    "fig, ax = plt.subplots(1, 2)\n",
    "\n",
    "rc('font', size=14)\n",
    "rc('legend', fontsize=13)\n",
    "\n",
    "\n",
    "\n",
    "def GaussPDFscaled(y, m, s):  # sombreado\n",
    "    return np.exp(-0.5 * (y - m.T) ** 2 / (s ** 2).T)\n",
    "\n",
    "\n",
    "yy = np.linspace(-15, 20, 200).reshape([200, 1])\n",
    "P = GaussPDFscaled(yy, m, stdpi)\n",
    "\n",
    "\n",
    "ax[0].imshow(\n",
    "    P, extent=[-8, 8, -15, 20], aspect=\"auto\", origin=\"lower\", cmap=\"Blues\", alpha=0.6\n",
    ")\n",
    "#ax[0].plot(x, phi(x), \"-\", color='skyblue')\n",
    "ax[0].plot(x, s, \":\", color='darkmagenta')  # prior\n",
    "ax[0].plot(x, m, \"-\", color='skyblue')\n",
    "ax[0].plot(x, m + 2 * stdpi, \"-\", color='skyblue')\n",
    "ax[0].plot(x, m - 2 * stdpi, \"-\", color='skyblue')\n",
    "ax[0].set(xlim=[-8, 8], ylim=[-15, 20], title=\"\")\n",
    "\n",
    "\n",
    "Ppost = GaussPDFscaled(yy, mpost, stdpo) \n",
    "ax[1].imshow(\n",
    "    Ppost,\n",
    "    extent=[-8, 8, -15, 20],\n",
    "    aspect=\"auto\",\n",
    "    origin=\"lower\",\n",
    "    cmap=\"Blues\",\n",
    "    alpha=0.6,\n",
    ")\n",
    "ax[1].errorbar(X, Y, yerr=0, fmt='ok')\n",
    "               #, capsize=4, capthick=1, markersize=4)  \n",
    "ax[1].plot(x, mpost, \"-\", color='skyblue')  # media a posteriori\n",
    "ax[1].plot(x, mpost + 2 * stdpo, \"-\", color='skyblue')  # barras error\n",
    "ax[1].plot(x, mpost - 2 * stdpo, \"-\", color='skyblue')  # barras error\n",
    "\n",
    "ax[1].plot(\n",
    "    x, mpost + 2 * stdpo + 2 * sigma, \"-\", color='skyblue'\n",
    ")  \n",
    "ax[1].plot(x, mpost - 2 * stdpo - 2 * sigma, \"-\", color='skyblue')\n",
    "\n",
    "ax[1].plot(x, spost, \":\", color='darkmagenta')  # muestras\n",
    "ax[1].set(xlim=[-8, 8], ylim=[-15, 20], title=\"\", )\n",
    "\n",
    "plt.show()"
   ]
  }
 ],
 "metadata": {
  "kernelspec": {
   "display_name": "Python 3 (ipykernel)",
   "language": "python",
   "name": "python3"
  },
  "language_info": {
   "codemirror_mode": {
    "name": "ipython",
    "version": 3
   },
   "file_extension": ".py",
   "mimetype": "text/x-python",
   "name": "python",
   "nbconvert_exporter": "python",
   "pygments_lexer": "ipython3",
   "version": "3.9.7"
  }
 },
 "nbformat": 4,
 "nbformat_minor": 4
}
